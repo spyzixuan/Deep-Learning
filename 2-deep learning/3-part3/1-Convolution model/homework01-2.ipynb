{
 "cells": [
  {
   "attachments": {},
   "cell_type": "markdown",
   "id": "cce188a9",
   "metadata": {},
   "source": [
    "<font size=5>Convolutional Neural Networks: Application——卷积神经网络的应用"
   ]
  },
  {
   "cell_type": "code",
   "execution_count": 3,
   "id": "c4e83f07",
   "metadata": {
    "execution": {
     "iopub.execute_input": "2023-06-05T10:26:16.222404Z",
     "iopub.status.busy": "2023-06-05T10:26:16.221217Z",
     "iopub.status.idle": "2023-06-05T10:26:27.271696Z",
     "shell.execute_reply": "2023-06-05T10:26:27.270582Z"
    },
    "papermill": {
     "duration": 11.061666,
     "end_time": "2023-06-05T10:26:27.274520",
     "exception": false,
     "start_time": "2023-06-05T10:26:16.212854",
     "status": "completed"
    },
    "tags": []
   },
   "outputs": [
    {
     "name": "stderr",
     "output_type": "stream",
     "text": [
      "/opt/conda/lib/python3.10/site-packages/tensorflow_io/python/ops/__init__.py:98: UserWarning: unable to load libtensorflow_io_plugins.so: unable to open file: libtensorflow_io_plugins.so, from paths: ['/opt/conda/lib/python3.10/site-packages/tensorflow_io/python/ops/libtensorflow_io_plugins.so']\n",
      "caused by: ['/opt/conda/lib/python3.10/site-packages/tensorflow_io/python/ops/libtensorflow_io_plugins.so: undefined symbol: _ZN3tsl6StatusC1EN10tensorflow5error4CodeESt17basic_string_viewIcSt11char_traitsIcEENS_14SourceLocationE']\n",
      "  warnings.warn(f\"unable to load libtensorflow_io_plugins.so: {e}\")\n",
      "/opt/conda/lib/python3.10/site-packages/tensorflow_io/python/ops/__init__.py:104: UserWarning: file system plugins are not loaded: unable to open file: libtensorflow_io.so, from paths: ['/opt/conda/lib/python3.10/site-packages/tensorflow_io/python/ops/libtensorflow_io.so']\n",
      "caused by: ['/opt/conda/lib/python3.10/site-packages/tensorflow_io/python/ops/libtensorflow_io.so: undefined symbol: _ZTVN10tensorflow13GcsFileSystemE']\n",
      "  warnings.warn(f\"file system plugins are not loaded: {e}\")\n"
     ]
    }
   ],
   "source": [
    "import math  # 导入math模块，提供数学函数和常数\n",
    "import numpy as np  # 导入NumPy库，提供多维数组和数值计算工具\n",
    "import h5py  # 导入h5py库，用于读写HDF5文件\n",
    "import matplotlib.pyplot as plt  # 导入matplotlib库的pyplot模块，用于绘制图形\n",
    "import scipy  # 导入SciPy库，提供科学计算功能\n",
    "from PIL import Image  # 导入PIL库，用于处理图像\n",
    "from scipy import ndimage  # 导入scipy库的ndimage模块，用于图像处理\n",
    "import tensorflow as tf  # 导入TensorFlow库，用于构建和训练深度学习模型\n",
    "from tensorflow.python.framework import ops  # 导入TensorFlow库的ops模块，用于操作计算图\n",
    "from cnn_utils import *  # 导入自定义的cnn_utils模块，其中包含一些用于CNN的辅助函数和工具\n",
    "\n",
    "# 配置matplotlib在Jupyter Notebook中进行图形渲染\n",
    "%matplotlib inline  \n",
    "\n",
    "np.random.seed(1)  # 设置随机种子，以确保随机数生成的结果可重现\n",
    "\n",
    "tf.compat.v1.disable_eager_execution()  # 禁用TensorFlow的即时执行模式（Eager Execution）\n"
   ]
  },
  {
   "cell_type": "code",
   "execution_count": 4,
   "id": "10ec0ec0",
   "metadata": {
    "execution": {
     "iopub.execute_input": "2023-06-05T10:26:27.291591Z",
     "iopub.status.busy": "2023-06-05T10:26:27.290156Z",
     "iopub.status.idle": "2023-06-05T10:26:27.594947Z",
     "shell.execute_reply": "2023-06-05T10:26:27.593718Z"
    },
    "papermill": {
     "duration": 0.315646,
     "end_time": "2023-06-05T10:26:27.597572",
     "exception": false,
     "start_time": "2023-06-05T10:26:27.281926",
     "status": "completed"
    },
    "tags": []
   },
   "outputs": [],
   "source": [
    "# 加载数据（手势数据集）\n",
    "X_train_orig, Y_train_orig, X_test_orig, Y_test_orig, classes = load_dataset()"
   ]
  },
  {
   "cell_type": "code",
   "execution_count": 5,
   "id": "a1bcafb7",
   "metadata": {
    "execution": {
     "iopub.execute_input": "2023-06-05T10:26:27.614603Z",
     "iopub.status.busy": "2023-06-05T10:26:27.613612Z",
     "iopub.status.idle": "2023-06-05T10:26:27.933110Z",
     "shell.execute_reply": "2023-06-05T10:26:27.932001Z"
    },
    "papermill": {
     "duration": 0.330174,
     "end_time": "2023-06-05T10:26:27.935579",
     "exception": false,
     "start_time": "2023-06-05T10:26:27.605405",
     "status": "completed"
    },
    "tags": []
   },
   "outputs": [
    {
     "name": "stdout",
     "output_type": "stream",
     "text": [
      "y = 2\n"
     ]
    },
    {
     "data": {
      "image/png": "[encoded data removed]",
      "text/plain": [
       "<Figure size 640x480 with 1 Axes>"
      ]
     },
     "metadata": {},
     "output_type": "display_data"
    }
   ],
   "source": [
    "# 图片示例\n",
    "index = 6  # 选择要展示的图片的索引\n",
    "plt.imshow(X_train_orig[index])  # 使用plt.imshow显示选定索引的训练集中的图片\n",
    "print(\"y = \" + str(np.squeeze(Y_train_orig[:, index])))  # 打印该图片对应的标签值（将多维数组转换为标量）"
   ]
  },
  {
   "cell_type": "code",
   "execution_count": 6,
   "id": "b6672723",
   "metadata": {
    "execution": {
     "iopub.execute_input": "2023-06-05T10:26:27.953751Z",
     "iopub.status.busy": "2023-06-05T10:26:27.953352Z",
     "iopub.status.idle": "2023-06-05T10:26:28.017831Z",
     "shell.execute_reply": "2023-06-05T10:26:28.016370Z"
    },
    "papermill": {
     "duration": 0.077494,
     "end_time": "2023-06-05T10:26:28.020566",
     "exception": false,
     "start_time": "2023-06-05T10:26:27.943072",
     "status": "completed"
    },
    "tags": []
   },
   "outputs": [
    {
     "name": "stdout",
     "output_type": "stream",
     "text": [
      "number of training examples = 1080\n",
      "number of test examples = 120\n",
      "X_train shape: (1080, 64, 64, 3)\n",
      "Y_train shape: (1080, 6)\n",
      "X_test shape: (120, 64, 64, 3)\n",
      "Y_test shape: (120, 6)\n"
     ]
    }
   ],
   "source": [
    "# 对训练集和测试集进行归一化处理\n",
    "X_train = X_train_orig / 255.  # 将训练集的像素值除以255，将像素值缩放到0到1之间\n",
    "X_test = X_test_orig / 255.  # 将测试集的像素值除以255，将像素值缩放到0到1之间\n",
    "\n",
    "# 将标签转换为独热编码形式\n",
    "Y_train = convert_to_one_hot(Y_train_orig, 6).T  # 将训练集的标签转换为独热编码，并转置矩阵的维度\n",
    "Y_test = convert_to_one_hot(Y_test_orig, 6).T  # 将测试集的标签转换为独热编码，并转置矩阵的维度\n",
    "\n",
    "# 打印数据集信息\n",
    "print(\"number of training examples = \" + str(X_train.shape[0]))  # 打印训练集的样本数量\n",
    "print(\"number of test examples = \" + str(X_test.shape[0]))  # 打印测试集的样本数量\n",
    "print(\"X_train shape: \" + str(X_train.shape))  # 打印训练集的形状\n",
    "print(\"Y_train shape: \" + str(Y_train.shape))  # 打印训练集标签的形状\n",
    "print(\"X_test shape: \" + str(X_test.shape))  # 打印测试集的形状\n",
    "print(\"Y_test shape: \" + str(Y_test.shape))  # 打印测试集标签的形状\n",
    "\n",
    "conv_layers = {}  # 初始化卷积层的字典"
   ]
  },
  {
   "cell_type": "code",
   "execution_count": 7,
   "id": "4f0adbc7",
   "metadata": {
    "execution": {
     "iopub.execute_input": "2023-06-05T10:26:28.038522Z",
     "iopub.status.busy": "2023-06-05T10:26:28.037228Z",
     "iopub.status.idle": "2023-06-05T10:26:28.044382Z",
     "shell.execute_reply": "2023-06-05T10:26:28.043559Z"
    },
    "papermill": {
     "duration": 0.018288,
     "end_time": "2023-06-05T10:26:28.046613",
     "exception": false,
     "start_time": "2023-06-05T10:26:28.028325",
     "status": "completed"
    },
    "tags": []
   },
   "outputs": [],
   "source": [
    "def create_placeholders(n_H0, n_W0, n_C0, n_y):\n",
    "    \"\"\"\n",
    "    创建用于 TensorFlow 会话的占位符。\n",
    "    \n",
    "    参数：\n",
    "    n_H0 -- 标量，输入图像的高度\n",
    "    n_W0 -- 标量，输入图像的宽度\n",
    "    n_C0 -- 标量，输入图像的通道数\n",
    "    n_y -- 标量，类别的数量\n",
    "        \n",
    "    返回：\n",
    "    X -- 用于数据输入的占位符，形状为 [None, n_H0, n_W0, n_C0]，数据类型为 \"float\"\n",
    "    Y -- 用于输入标签的占位符，形状为 [None, n_y]，数据类型为 \"float\"\n",
    "    \"\"\"\n",
    "\n",
    "    ### START CODE HERE ### (≈2 lines)\n",
    "    X = tf.compat.v1.placeholder(tf.float32, shape=[None, n_H0, n_W0, n_C0])  # 创建形状为 [None, n_H0, n_W0, n_C0] 的占位符 X，数据类型为 \"float\"\n",
    "    Y = tf.compat.v1.placeholder(tf.float32, shape=[None, n_y])  # 创建形状为 [None, n_y] 的占位符 Y，数据类型为 \"float\"\n",
    "    ### END CODE HERE ###\n",
    "    \n",
    "    return X, Y"
   ]
  },
  {
   "cell_type": "code",
   "execution_count": 8,
   "id": "b152dc4d",
   "metadata": {
    "execution": {
     "iopub.execute_input": "2023-06-05T10:26:28.064048Z",
     "iopub.status.busy": "2023-06-05T10:26:28.063450Z",
     "iopub.status.idle": "2023-06-05T10:26:28.093782Z",
     "shell.execute_reply": "2023-06-05T10:26:28.092812Z"
    },
    "papermill": {
     "duration": 0.04183,
     "end_time": "2023-06-05T10:26:28.096165",
     "exception": false,
     "start_time": "2023-06-05T10:26:28.054335",
     "status": "completed"
    },
    "tags": []
   },
   "outputs": [
    {
     "name": "stdout",
     "output_type": "stream",
     "text": [
      "X = Tensor(\"Placeholder:0\", shape=(None, 64, 64, 3), dtype=float32)\n",
      "Y = Tensor(\"Placeholder_1:0\", shape=(None, 6), dtype=float32)\n"
     ]
    }
   ],
   "source": [
    "X, Y = create_placeholders(64, 64, 3, 6)  # 调用 create_placeholders 函数创建占位符 X 和 Y\n",
    "print(\"X = \" + str(X))  # 打印占位符 X\n",
    "print(\"Y = \" + str(Y))  # 打印占位符 Y"
   ]
  },
  {
   "cell_type": "code",
   "execution_count": 9,
   "id": "2ad38688",
   "metadata": {
    "execution": {
     "iopub.execute_input": "2023-06-05T10:26:28.114462Z",
     "iopub.status.busy": "2023-06-05T10:26:28.114044Z",
     "iopub.status.idle": "2023-06-05T10:26:28.120508Z",
     "shell.execute_reply": "2023-06-05T10:26:28.119659Z"
    },
    "papermill": {
     "duration": 0.018529,
     "end_time": "2023-06-05T10:26:28.122561",
     "exception": false,
     "start_time": "2023-06-05T10:26:28.104032",
     "status": "completed"
    },
    "tags": []
   },
   "outputs": [],
   "source": [
    "def initialize_parameters():\n",
    "    \"\"\"\n",
    "    使用 TensorFlow 初始化权重参数，构建一个神经网络。权重参数的形状为：\n",
    "                        W1 : [4, 4, 3, 8]\n",
    "                        W2 : [2, 2, 8, 16]\n",
    "    返回：\n",
    "    parameters -- 包含 W1 和 W2 的张量字典\n",
    "    \"\"\"\n",
    "    \n",
    "    tf.compat.v1.set_random_seed(1)  # 设置随机种子以保持一致的结果\n",
    "    ### START CODE HERE ### (approx. 2 lines of code)\n",
    "    initializer = tf.keras.initializers.GlorotUniform(seed=0)  # 使用 GlorotUniform 初始化权重矩阵的值\n",
    "    W1 = tf.Variable(initializer(shape=[4, 4, 3, 8]))  # 创建形状为 [4, 4, 3, 8] 的权重矩阵 W1\n",
    "    W2 = tf.Variable(initializer(shape=[2, 2, 8, 16]))  # 创建形状为 [2, 2, 8, 16] 的权重矩阵 W2\n",
    "    ### END CODE HERE ###\n",
    "\n",
    "    parameters = {\"W1\": W1,\n",
    "                  \"W2\": W2}\n",
    "    \n",
    "    return parameters"
   ]
  },
  {
   "cell_type": "code",
   "execution_count": 10,
   "id": "ccaf37c6",
   "metadata": {
    "execution": {
     "iopub.execute_input": "2023-06-05T10:26:28.140170Z",
     "iopub.status.busy": "2023-06-05T10:26:28.139461Z",
     "iopub.status.idle": "2023-06-05T10:26:28.337830Z",
     "shell.execute_reply": "2023-06-05T10:26:28.336371Z"
    },
    "papermill": {
     "duration": 0.210224,
     "end_time": "2023-06-05T10:26:28.340510",
     "exception": false,
     "start_time": "2023-06-05T10:26:28.130286",
     "status": "completed"
    },
    "tags": []
   },
   "outputs": [
    {
     "name": "stdout",
     "output_type": "stream",
     "text": [
      "W1 = [-0.05346771  0.18349849 -0.01215445  0.00138046  0.0012947  -0.02904211\n",
      " -0.11260509 -0.143055  ]\n",
      "W2 = [-0.1713624   0.09527719 -0.0744766  -0.02245569  0.24450928 -0.06879854\n",
      "  0.21546292 -0.08803296 -0.16513646 -0.19527972 -0.22957063  0.15745944\n",
      "  0.13090086 -0.12304181 -0.05287278  0.03434092]\n"
     ]
    }
   ],
   "source": [
    "tf.compat.v1.reset_default_graph()  # 重置默认计算图\n",
    "\n",
    "with tf.compat.v1.Session() as sess_test:  # 创建 TensorFlow 会话\n",
    "    parameters = initialize_parameters()  # 初始化参数\n",
    "    init = tf.compat.v1.global_variables_initializer()  # 初始化全局变量\n",
    "    sess_test.run(init)  # 运行初始化操作\n",
    "    print(\"W1 = \" + str(parameters[\"W1\"].eval()[1, 1, 1]))  # 打印参数 W1 的值的第 (1, 1, 1) 个元素\n",
    "    print(\"W2 = \" + str(parameters[\"W2\"].eval()[1, 1, 1]))  # 打印参数 W2 的值的第 (1, 1, 1) 个元素"
   ]
  },
  {
   "cell_type": "code",
   "execution_count": 11,
   "id": "60e150ee",
   "metadata": {
    "execution": {
     "iopub.execute_input": "2023-06-05T10:26:28.357790Z",
     "iopub.status.busy": "2023-06-05T10:26:28.357407Z",
     "iopub.status.idle": "2023-06-05T10:26:28.367839Z",
     "shell.execute_reply": "2023-06-05T10:26:28.366733Z"
    },
    "papermill": {
     "duration": 0.021705,
     "end_time": "2023-06-05T10:26:28.370099",
     "exception": false,
     "start_time": "2023-06-05T10:26:28.348394",
     "status": "completed"
    },
    "tags": []
   },
   "outputs": [],
   "source": [
    "def forward_propagation(X, parameters):\n",
    "    \"\"\"\n",
    "    实现模型的前向传播：\n",
    "    CONV2D -> RELU -> MAXPOOL -> CONV2D -> RELU -> MAXPOOL -> FLATTEN -> FULLYCONNECTED\n",
    "    \n",
    "    参数：\n",
    "    X -- 输入数据集占位符，形状为 (input size, number of examples)\n",
    "    parameters -- 包含参数 \"W1\", \"W2\" 的 Python 字典，这些参数的形状在 initialize_parameters 中给出\n",
    "    \n",
    "    返回：\n",
    "    Z3 -- 最后一个线性单元的输出\n",
    "    \"\"\"\n",
    "    \n",
    "    # 从字典 \"parameters\" 中检索参数\n",
    "    W1 = parameters['W1']\n",
    "    W2 = parameters['W2']\n",
    "    \n",
    "    ### START CODE HERE ###\n",
    "    # CONV2D：步幅为1，填充方式为'SAME'\n",
    "    Z1 = tf.nn.conv2d(X, W1, strides=[1, 1, 1, 1], padding='SAME')\n",
    "    # RELU\n",
    "    A1 = tf.nn.relu(Z1)\n",
    "    # MAXPOOL：窗口大小为8x8，步幅为8，填充方式为'SAME'\n",
    "    P1 = tf.nn.max_pool(A1, ksize=[1, 8, 8, 1], strides=[1, 8, 8, 1], padding='SAME')\n",
    "    # CONV2D：过滤器为W2，步幅为1，填充方式为'SAME'\n",
    "    Z2 = tf.nn.conv2d(P1, W2, strides=[1, 1, 1, 1], padding='SAME')\n",
    "    # RELU\n",
    "    A2 = tf.nn.relu(Z2)\n",
    "    # MAXPOOL：窗口大小为4x4，步幅为4，填充方式为'SAME'\n",
    "    P2 = tf.nn.max_pool(A2, ksize=[1, 4, 4, 1], strides=[1, 4, 4, 1], padding='SAME')\n",
    "    # FLATTEN\n",
    "    P = tf.keras.layers.Flatten()(P2)\n",
    "    # FULLY-CONNECTED：无非线性激活函数（不调用 softmax）。\n",
    "    # 输出层有6个神经元。提示：其中一个参数应为 \"activation_fn=None\"\n",
    "    Z3 = tf.keras.layers.Dense(6, activation=None)(P)\n",
    "    ### END CODE HERE ###\n",
    "\n",
    "    return Z3\n"
   ]
  },
  {
   "cell_type": "code",
   "execution_count": 12,
   "id": "67dbf7ee",
   "metadata": {
    "execution": {
     "iopub.execute_input": "2023-06-05T10:26:28.387949Z",
     "iopub.status.busy": "2023-06-05T10:26:28.387337Z",
     "iopub.status.idle": "2023-06-05T10:26:28.618566Z",
     "shell.execute_reply": "2023-06-05T10:26:28.617672Z"
    },
    "papermill": {
     "duration": 0.243677,
     "end_time": "2023-06-05T10:26:28.621620",
     "exception": false,
     "start_time": "2023-06-05T10:26:28.377943",
     "status": "completed"
    },
    "tags": []
   },
   "outputs": [
    {
     "name": "stdout",
     "output_type": "stream",
     "text": [
      "Z3 = [[ 0.68591964 -1.7273368  -0.3046974  -0.24085794 -1.0980211   1.5076592 ]\n",
      " [ 0.86018735 -1.986844    0.00320518  0.06850296 -0.80105233  1.0182934 ]]\n"
     ]
    }
   ],
   "source": [
    "tf.compat.v1.reset_default_graph()  # 重置默认计算图\n",
    "\n",
    "with tf.compat.v1.Session() as sess:  # 创建 TensorFlow 会话\n",
    "    np.random.seed(1)\n",
    "    X, Y = create_placeholders(64, 64, 3, 6)  # 创建输入占位符 X 和 Y\n",
    "    parameters = initialize_parameters()  # 初始化参数\n",
    "    Z3 = forward_propagation(X, parameters)  # 进行前向传播计算得到 Z3\n",
    "    init = tf.compat.v1.global_variables_initializer()  # 初始化全局变量\n",
    "    sess.run(init)  # 运行初始化操作\n",
    "    a = sess.run(Z3, {X: np.random.randn(2, 64, 64, 3), Y: np.random.randn(2, 6)})  # 运行计算图获取 Z3 的值\n",
    "    print(\"Z3 = \" + str(a))  # 打印 Z3 的值"
   ]
  },
  {
   "cell_type": "code",
   "execution_count": 13,
   "id": "83f337fd",
   "metadata": {
    "execution": {
     "iopub.execute_input": "2023-06-05T10:26:28.639564Z",
     "iopub.status.busy": "2023-06-05T10:26:28.639136Z",
     "iopub.status.idle": "2023-06-05T10:26:28.644899Z",
     "shell.execute_reply": "2023-06-05T10:26:28.643760Z"
    },
    "papermill": {
     "duration": 0.017639,
     "end_time": "2023-06-05T10:26:28.647284",
     "exception": false,
     "start_time": "2023-06-05T10:26:28.629645",
     "status": "completed"
    },
    "tags": []
   },
   "outputs": [],
   "source": [
    "def compute_cost(Z3, Y):\n",
    "    \"\"\"\n",
    "    计算成本函数\n",
    "    \n",
    "    参数：\n",
    "    Z3 -- 前向传播的输出（最后一个线性单元的输出），形状为 (6, number of examples)\n",
    "    Y -- \"true\" 标签向量的占位符，与 Z3 形状相同\n",
    "    \n",
    "    返回：\n",
    "    cost - 成本函数的张量\n",
    "    \"\"\"\n",
    "    \n",
    "    ### START CODE HERE ### (1行代码)\n",
    "    cost = tf.reduce_mean(tf.nn.softmax_cross_entropy_with_logits(logits=Z3, labels=Y))\n",
    "    ### END CODE HERE ###\n",
    "    \n",
    "    return cost"
   ]
  },
  {
   "cell_type": "code",
   "execution_count": 14,
   "id": "3ffca594",
   "metadata": {
    "execution": {
     "iopub.execute_input": "2023-06-05T10:26:28.664604Z",
     "iopub.status.busy": "2023-06-05T10:26:28.664189Z",
     "iopub.status.idle": "2023-06-05T10:26:28.817995Z",
     "shell.execute_reply": "2023-06-05T10:26:28.816674Z"
    },
    "papermill": {
     "duration": 0.16526,
     "end_time": "2023-06-05T10:26:28.820453",
     "exception": false,
     "start_time": "2023-06-05T10:26:28.655193",
     "status": "completed"
    },
    "tags": []
   },
   "outputs": [
    {
     "name": "stdout",
     "output_type": "stream",
     "text": [
      "cost = 0.27564162\n"
     ]
    }
   ],
   "source": [
    "tf.compat.v1.reset_default_graph()  # 重置默认计算图\n",
    "\n",
    "with tf.compat.v1.Session() as sess:  # 创建 TensorFlow 会话\n",
    "    np.random.seed(1)\n",
    "    X, Y = create_placeholders(64, 64, 3, 6)  # 创建输入占位符 X 和 Y\n",
    "    parameters = initialize_parameters()  # 初始化参数\n",
    "    Z3 = forward_propagation(X, parameters)  # 进行前向传播计算得到 Z3\n",
    "    cost = compute_cost(Z3, Y)  # 计算成本函数\n",
    "    init = tf.compat.v1.global_variables_initializer()  # 初始化全局变量\n",
    "    sess.run(init)  # 运行初始化操作\n",
    "    a = sess.run(cost, feed_dict={X: np.random.randn(4, 64, 64, 3), Y: np.random.randn(4, 6)})  # 运行计算图获取成本的值\n",
    "    print(\"cost = \" + str(a))  # 打印成本的值"
   ]
  },
  {
   "cell_type": "code",
   "execution_count": 15,
   "id": "8b3e8c4f",
   "metadata": {
    "execution": {
     "iopub.execute_input": "2023-06-05T10:26:28.838448Z",
     "iopub.status.busy": "2023-06-05T10:26:28.838054Z",
     "iopub.status.idle": "2023-06-05T10:26:28.858230Z",
     "shell.execute_reply": "2023-06-05T10:26:28.856990Z"
    },
    "papermill": {
     "duration": 0.03224,
     "end_time": "2023-06-05T10:26:28.860579",
     "exception": false,
     "start_time": "2023-06-05T10:26:28.828339",
     "status": "completed"
    },
    "tags": []
   },
   "outputs": [],
   "source": [
    "def model(X_train, Y_train, X_test, Y_test, learning_rate=0.009,\n",
    "          num_epochs=100, minibatch_size=64, print_cost=True):\n",
    "    \"\"\"\n",
    "    在Tensorflow中实现一个三层的卷积神经网络：\n",
    "    CONV2D -> RELU -> MAXPOOL -> CONV2D -> RELU -> MAXPOOL -> FLATTEN -> FULLYCONNECTED\n",
    "    \n",
    "    参数：\n",
    "    X_train -- 训练集，形状为 (None, 64, 64, 3)\n",
    "    Y_train -- 测试集，形状为 (None, n_y = 6)\n",
    "    X_test -- 训练集，形状为 (None, 64, 64, 3)\n",
    "    Y_test -- 测试集，形状为 (None, n_y = 6)\n",
    "    learning_rate -- 优化器的学习率\n",
    "    num_epochs -- 优化循环的迭代次数\n",
    "    minibatch_size -- 迷你批次的大小\n",
    "    print_cost -- True表示每100个迭代周期打印一次成本\n",
    "    \n",
    "    返回：\n",
    "    train_accuracy -- 实数，训练集的准确率（X_train）\n",
    "    test_accuracy -- 实数，测试集的准确率（X_test）\n",
    "    parameters -- 模型学习到的参数，可以用于预测\n",
    "    \"\"\"\n",
    "    \n",
    "    ops.reset_default_graph()                         # 为了能够重新运行模型而不覆盖tf变量\n",
    "    tf.compat.v1.set_random_seed(1)                             # 保持结果一致性（tensorflow的随机种子）\n",
    "    seed = 3                                          # 保持结果一致性（numpy的随机种子）\n",
    "    (m, n_H0, n_W0, n_C0) = X_train.shape             \n",
    "    n_y = Y_train.shape[1]                            \n",
    "    costs = []                                        # 用于跟踪成本\n",
    "    \n",
    "    # 创建正确形状的占位符\n",
    "    ### START CODE HERE ### (1行代码)\n",
    "    X, Y = create_placeholders(n_H0, n_W0, n_C0, n_y)\n",
    "    ### END CODE HERE ###\n",
    "\n",
    "    # 初始化参数\n",
    "    ### START CODE HERE ### (1行代码)\n",
    "    parameters = initialize_parameters()\n",
    "    ### END CODE HERE ###\n",
    "    \n",
    "    # 前向传播：在tensorflow图中构建前向传播\n",
    "    ### START CODE HERE ### (1行代码)\n",
    "    Z3 = forward_propagation(X, parameters)\n",
    "    ### END CODE HERE ###\n",
    "    \n",
    "    # 成本函数：将成本函数添加到tensorflow图中\n",
    "    ### START CODE HERE ### (1行代码)\n",
    "    cost = compute_cost(Z3, Y)\n",
    "    ### END CODE HERE ###\n",
    "    \n",
    "    # 反向传播：定义tensorflow优化器。使用AdamOptimizer来最小化成本。\n",
    "    ### START CODE HERE ### (1行代码)\n",
    "    optimizer = tf.compat.v1.train.AdamOptimizer(learning_rate=learning_rate).minimize(cost)\n",
    "    ### END CODE HERE ###\n",
    "    \n",
    "    # 全局初始化所有变量\n",
    "    init = tf.compat.v1.global_variables_initializer()\n",
    "     \n",
    "    # 开始会话来计算tensorflow图\n",
    "    with tf.compat.v1.Session() as sess:\n",
    "        \n",
    "        # 运行初始化\n",
    "        sess.run(init)\n",
    "        \n",
    "        # 进行训练循环\n",
    "        for epoch in range(num_epochs):\n",
    "\n",
    "            minibatch_cost = 0.\n",
    "            num_minibatches = int(m / minibatch_size) # 计算训练集中以迷你批次大小为大小的迷你批次的数量\n",
    "            seed = seed + 1\n",
    "            minibatches = random_mini_batches(X_train, Y_train, minibatch_size, seed)\n",
    "\n",
    "            for minibatch in minibatches:\n",
    "\n",
    "                # 选择一个迷你批次\n",
    "                (minibatch_X, minibatch_Y) = minibatch\n",
    "                # 重要：运行图在一个迷你批次上。\n",
    "                # 运行会话来执行优化器和成本，feed_dict应该包含一个迷你批次的（X,Y）。\n",
    "                ### START CODE HERE ### (1行代码)\n",
    "                _ , temp_cost = sess.run([optimizer, cost], feed_dict={X:minibatch_X, Y:minibatch_Y})\n",
    "                ### END CODE HERE ###\n",
    "                \n",
    "                minibatch_cost += temp_cost / num_minibatches\n",
    "                \n",
    "\n",
    "            # 每个迭代周期打印成本\n",
    "            if print_cost == True and epoch % 5 == 0:\n",
    "                print (\"Cost after epoch %i: %f\" % (epoch, minibatch_cost))\n",
    "            if print_cost == True and epoch % 1 == 0:\n",
    "                costs.append(minibatch_cost)\n",
    "        \n",
    "        \n",
    "        # 绘制成本曲线\n",
    "        plt.plot(np.squeeze(costs))\n",
    "        plt.ylabel('cost')\n",
    "        plt.xlabel('iterations (per tens)')\n",
    "        plt.title(\"Learning rate =\" + str(learning_rate))\n",
    "        plt.show()\n",
    "\n",
    "        # 计算正确的预测\n",
    "        predict_op = tf.argmax(Z3, 1)\n",
    "        correct_prediction = tf.equal(predict_op, tf.argmax(Y, 1))\n",
    "        \n",
    "        # 计算测试集上的准确率\n",
    "        accuracy = tf.reduce_mean(tf.cast(correct_prediction, \"float\"))\n",
    "        print(accuracy)\n",
    "        train_accuracy = accuracy.eval({X: X_train, Y: Y_train})\n",
    "        test_accuracy = accuracy.eval({X: X_test, Y: Y_test})\n",
    "        print(\"Train Accuracy:\", train_accuracy)\n",
    "        print(\"Test Accuracy:\", test_accuracy)\n",
    "                \n",
    "        return train_accuracy, test_accuracy, parameters"
   ]
  },
  {
   "cell_type": "code",
   "execution_count": 16,
   "id": "0c129113",
   "metadata": {
    "execution": {
     "iopub.execute_input": "2023-06-05T10:26:28.878163Z",
     "iopub.status.busy": "2023-06-05T10:26:28.877749Z",
     "iopub.status.idle": "2023-06-05T10:28:16.002888Z",
     "shell.execute_reply": "2023-06-05T10:28:16.001494Z"
    },
    "papermill": {
     "duration": 107.137027,
     "end_time": "2023-06-05T10:28:16.005610",
     "exception": false,
     "start_time": "2023-06-05T10:26:28.868583",
     "status": "completed"
    },
    "tags": []
   },
   "outputs": [
    {
     "name": "stdout",
     "output_type": "stream",
     "text": [
      "Cost after epoch 0: 1.912308\n",
      "Cost after epoch 5: 1.664418\n",
      "Cost after epoch 10: 1.063845\n",
      "Cost after epoch 15: 0.853859\n",
      "Cost after epoch 20: 0.728959\n",
      "Cost after epoch 25: 0.695732\n",
      "Cost after epoch 30: 0.627775\n",
      "Cost after epoch 35: 0.644018\n",
      "Cost after epoch 40: 0.530419\n",
      "Cost after epoch 45: 0.512051\n",
      "Cost after epoch 50: 0.483798\n",
      "Cost after epoch 55: 0.436252\n",
      "Cost after epoch 60: 0.423834\n",
      "Cost after epoch 65: 0.395510\n",
      "Cost after epoch 70: 0.360015\n",
      "Cost after epoch 75: 0.340785\n",
      "Cost after epoch 80: 0.330315\n",
      "Cost after epoch 85: 0.319171\n",
      "Cost after epoch 90: 0.260928\n",
      "Cost after epoch 95: 0.254667\n"
     ]
    },
    {
     "data": {
      "image/png": "[encoded data removed]",
      "text/plain": [
       "<Figure size 640x480 with 1 Axes>"
      ]
     },
     "metadata": {},
     "output_type": "display_data"
    },
    {
     "name": "stdout",
     "output_type": "stream",
     "text": [
      "Tensor(\"Mean_1:0\", shape=(), dtype=float32)\n",
      "Train Accuracy: 0.91851854\n",
      "Test Accuracy: 0.8333333\n"
     ]
    }
   ],
   "source": [
    "_, _, parameters = model(X_train, Y_train, X_test, Y_test)"
   ]
  },
  {
   "cell_type": "code",
   "execution_count": 17,
   "id": "e1cb5c58",
   "metadata": {
    "execution": {
     "iopub.execute_input": "2023-06-05T10:28:16.028574Z",
     "iopub.status.busy": "2023-06-05T10:28:16.028106Z",
     "iopub.status.idle": "2023-06-05T10:28:16.638776Z",
     "shell.execute_reply": "2023-06-05T10:28:16.637380Z"
    },
    "papermill": {
     "duration": 0.625423,
     "end_time": "2023-06-05T10:28:16.641688",
     "exception": false,
     "start_time": "2023-06-05T10:28:16.016265",
     "status": "completed"
    },
    "tags": []
   },
   "outputs": [
    {
     "name": "stderr",
     "output_type": "stream",
     "text": [
      "/tmp/ipykernel_20/1773246078.py:5: DeprecationWarning: Starting with ImageIO v3 the behavior of this function will switch to that of iio.v3.imread. To keep the current behavior (and make this warning disappear) use `import imageio.v2 as imageio` or call `imageio.v2.imread` directly.\n",
      "  image = imageio.imread(fname)\n"
     ]
    },
    {
     "data": {
      "image/png": "[encoded data removed]",
      "text/plain": [
       "<Figure size 640x480 with 1 Axes>"
      ]
     },
     "metadata": {},
     "output_type": "display_data"
    }
   ],
   "source": [
    "import imageio  # 导入图像IO库\n",
    "from PIL import Image  # 导入图像处理库\n",
    "\n",
    "fname = \"thumbs_up.jpg\"  # 图像文件名\n",
    "image = imageio.imread(fname)  # 使用imageio库读取图像文件\n",
    "my_image = np.array(Image.fromarray(image).resize((64, 64)))  # 将图像调整为大小为 64x64 的数组\n",
    "plt.imshow(my_image)  # 显示图像\n",
    "plt.show()  # 显示图像"
   ]
  },
  {
   "cell_type": "code",
   "execution_count": null,
   "id": "286bf92f",
   "metadata": {
    "papermill": {
     "duration": 0.010825,
     "end_time": "2023-06-05T10:28:16.663816",
     "exception": false,
     "start_time": "2023-06-05T10:28:16.652991",
     "status": "completed"
    },
    "tags": []
   },
   "outputs": [],
   "source": []
  }
 ],
 "metadata": {
  "kernelspec": {
   "display_name": "Python 3",
   "language": "python",
   "name": "python3"
  },
  "language_info": {
   "codemirror_mode": {
    "name": "ipython",
    "version": 3
   },
   "file_extension": ".py",
   "mimetype": "text/x-python",
   "name": "python",
   "nbconvert_exporter": "python",
   "pygments_lexer": "ipython3",
   "version": "3.9.16"
  },
  "papermill": {
   "default_parameters": {},
   "duration": 136.943399,
   "end_time": "2023-06-05T10:28:19.562829",
   "environment_variables": {},
   "exception": null,
   "input_path": "__notebook__.ipynb",
   "output_path": "__notebook__.ipynb",
   "parameters": {},
   "start_time": "2023-06-05T10:26:02.619430",
   "version": "2.4.0"
  }
 },
 "nbformat": 4,
 "nbformat_minor": 5
}
