{
 "cells": [
  {
   "cell_type": "code",
   "execution_count": 48,
   "metadata": {},
   "outputs": [
    {
     "data": {
      "text/html": [
       "<div>\n",
       "<style scoped>\n",
       "    .dataframe tbody tr th:only-of-type {\n",
       "        vertical-align: middle;\n",
       "    }\n",
       "\n",
       "    .dataframe tbody tr th {\n",
       "        vertical-align: top;\n",
       "    }\n",
       "\n",
       "    .dataframe thead th {\n",
       "        text-align: right;\n",
       "    }\n",
       "</style>\n",
       "<table border=\"1\" class=\"dataframe\">\n",
       "  <thead>\n",
       "    <tr style=\"text-align: right;\">\n",
       "      <th></th>\n",
       "      <th>Exam 1</th>\n",
       "      <th>Exam 2</th>\n",
       "      <th>Accepted</th>\n",
       "    </tr>\n",
       "  </thead>\n",
       "  <tbody>\n",
       "    <tr>\n",
       "      <th>0</th>\n",
       "      <td>34.623660</td>\n",
       "      <td>78.024693</td>\n",
       "      <td>0</td>\n",
       "    </tr>\n",
       "    <tr>\n",
       "      <th>1</th>\n",
       "      <td>30.286711</td>\n",
       "      <td>43.894998</td>\n",
       "      <td>0</td>\n",
       "    </tr>\n",
       "    <tr>\n",
       "      <th>2</th>\n",
       "      <td>35.847409</td>\n",
       "      <td>72.902198</td>\n",
       "      <td>0</td>\n",
       "    </tr>\n",
       "    <tr>\n",
       "      <th>3</th>\n",
       "      <td>60.182599</td>\n",
       "      <td>86.308552</td>\n",
       "      <td>1</td>\n",
       "    </tr>\n",
       "    <tr>\n",
       "      <th>4</th>\n",
       "      <td>79.032736</td>\n",
       "      <td>75.344376</td>\n",
       "      <td>1</td>\n",
       "    </tr>\n",
       "  </tbody>\n",
       "</table>\n",
       "</div>"
      ],
      "text/plain": [
       "      Exam 1     Exam 2  Accepted\n",
       "0  34.623660  78.024693         0\n",
       "1  30.286711  43.894998         0\n",
       "2  35.847409  72.902198         0\n",
       "3  60.182599  86.308552         1\n",
       "4  79.032736  75.344376         1"
      ]
     },
     "execution_count": 48,
     "metadata": {},
     "output_type": "execute_result"
    }
   ],
   "source": [
    "import numpy as np\n",
    "import pandas as pd\n",
    "import matplotlib.pyplot as plt\n",
    "\n",
    "data=pd.read_csv('ex2data1.txt',names=['Exam 1','Exam 2','Accepted'])\n",
    "data.head()"
   ]
  },
  {
   "cell_type": "code",
   "execution_count": 49,
   "metadata": {},
   "outputs": [
    {
     "data": {
      "image/png": "[encoded data removed]",
      "text/plain": [
       "<Figure size 640x480 with 1 Axes>"
      ]
     },
     "metadata": {},
     "output_type": "display_data"
    }
   ],
   "source": [
    "fig,ax=plt.subplots()\n",
    "\n",
    "ax.scatter(data[data['Accepted']==0]['Exam 1'],data[data['Accepted']==0]['Exam 2'],c='r',marker='x',label='y=0')\n",
    "ax.scatter(data[data['Accepted']==1]['Exam 1'],data[data['Accepted']==1]['Exam 2'],c='b',marker='o',label='y=1')\n",
    "ax.legend()\n",
    "ax.set(xlabel='exam1',ylabel='exam2')\n",
    "plt.show()"
   ]
  },
  {
   "cell_type": "code",
   "execution_count": 50,
   "metadata": {},
   "outputs": [],
   "source": [
    "def get_Xy(data):\n",
    "    \n",
    "    data.insert(0,'ones',1)\n",
    "    X_=data.iloc[:,0:-1]\n",
    "    X=X_.values\n",
    "\n",
    "    y_=data.iloc[:,-1]\n",
    "    y=y_.values.reshape(len(y_),1)\n",
    "\n",
    "    return X,y"
   ]
  },
  {
   "cell_type": "code",
   "execution_count": 51,
   "metadata": {},
   "outputs": [
    {
     "name": "stdout",
     "output_type": "stream",
     "text": [
      "(100, 3)\n",
      "(100, 1)\n"
     ]
    }
   ],
   "source": [
    "X,y=get_Xy(data)\n",
    "print(X.shape)\n",
    "print(y.shape)"
   ]
  },
  {
   "cell_type": "code",
   "execution_count": 52,
   "metadata": {},
   "outputs": [],
   "source": [
    "def sigmoid(z):\n",
    "\n",
    "    return 1/(1+np.exp(-z))"
   ]
  },
  {
   "cell_type": "code",
   "execution_count": 53,
   "metadata": {},
   "outputs": [],
   "source": [
    "def costFunction(X,y,theta):\n",
    "   \n",
    "    A=sigmoid(X@theta)\n",
    "\n",
    "    first=y*np.log(A)\n",
    "    second=(1-y)*np.log(1-A)\n",
    "\n",
    "    return -np.sum(first+second)/len(X)"
   ]
  },
  {
   "cell_type": "code",
   "execution_count": 54,
   "metadata": {},
   "outputs": [
    {
     "data": {
      "text/plain": [
       "(3, 1)"
      ]
     },
     "execution_count": 54,
     "metadata": {},
     "output_type": "execute_result"
    }
   ],
   "source": [
    "theta=np.zeros((3,1))\n",
    "theta.shape"
   ]
  },
  {
   "cell_type": "code",
   "execution_count": 55,
   "metadata": {},
   "outputs": [
    {
     "name": "stdout",
     "output_type": "stream",
     "text": [
      "0.6931471805599453\n"
     ]
    }
   ],
   "source": [
    "cost_init=costFunction(X,y,theta)\n",
    "print(cost_init)"
   ]
  },
  {
   "cell_type": "code",
   "execution_count": 56,
   "metadata": {},
   "outputs": [],
   "source": [
    "def gradientDescent(X,y,theta,iters,alpha):\n",
    "    \n",
    "    m=len(X)\n",
    "    costs=[]\n",
    "\n",
    "    for i in range(iters):\n",
    "        A=sigmoid(X@theta)\n",
    "        theta=theta-alpha*X.T@(A-y)/m\n",
    "        cost=costFunction(X,y,theta)\n",
    "        costs.append(cost)\n",
    "\n",
    "        if i%1000==0:\n",
    "            print(cost)\n",
    "\n",
    "    return costs,theta"
   ]
  },
  {
   "cell_type": "code",
   "execution_count": 57,
   "metadata": {},
   "outputs": [],
   "source": [
    "alpha=0.004\n",
    "iters=200000"
   ]
  },
  {
   "cell_type": "code",
   "execution_count": 58,
   "metadata": {},
   "outputs": [
    {
     "name": "stdout",
     "output_type": "stream",
     "text": [
      "1.9886538578930084\n",
      "3.0781700198641544\n",
      "5.487009635362496\n",
      "1.8519433661332636\n",
      "2.9551289424083604\n",
      "5.438688730769618\n",
      "1.8046128090728513\n",
      "2.831271577607404\n",
      "5.3886531633606145\n",
      "1.7561538117121567\n",
      "2.7066763807478122\n",
      "5.3365673644957425\n",
      "1.7062807047694801\n",
      "2.5818508519054264\n",
      "5.281774101800353\n",
      "1.6544129958512053\n",
      "2.4578430947435748\n",
      "5.223255119969365\n",
      "1.5996612097145566\n",
      "2.336247751941462\n",
      "5.159653459570274\n",
      "1.5408871901849082\n",
      "2.2190492038468874\n",
      "5.089387088751128\n",
      "1.4768567851081458\n",
      "2.10826850905365\n",
      "5.010845104587983\n",
      "1.4064493632805852\n",
      "2.0054338903832707\n",
      "4.9225734611717336\n",
      "1.3288041261254444\n",
      "1.9109646054893659\n",
      "4.82325748482661\n",
      "1.2432202250971685\n",
      "1.8235866121521405\n",
      "4.711246821296763\n",
      "1.1486277932139568\n",
      "1.7397667362448006\n",
      "4.583257400457349\n",
      "1.0423478306006684\n",
      "1.652586574603404\n",
      "4.430932868329269\n",
      "0.9166267386002204\n",
      "1.5465331276550862\n",
      "4.224624720512682\n",
      "0.7330944584991148\n",
      "1.510003264515867\n",
      "0.9289589839543182\n",
      "0.7921873015367228\n",
      "0.5841259283563387\n",
      "0.24166982593424396\n",
      "0.2663906486830507\n",
      "1.2041946261825291\n",
      "3.7464400414972783\n",
      "2.02532125229058\n",
      "2.7169273656304487\n",
      "0.7410565064107679\n",
      "1.6581204503437479\n",
      "0.41511004678035135\n",
      "0.48642245173582566\n",
      "1.0713554751005028\n",
      "0.2746632304649429\n",
      "0.5994506753540397\n",
      "0.4123095333324991\n",
      "0.5301214530787305\n",
      "0.290495717251804\n",
      "0.36252303869974656\n",
      "0.8640610339199702\n",
      "0.8115869762537262\n",
      "0.22559557872890568\n",
      "0.2360397281079624\n",
      "0.31368601180143935\n",
      "0.4663954684023311\n",
      "0.9285302652587727\n",
      "0.4535624925958851\n",
      "0.47611321488161373\n",
      "0.2843405400344326\n",
      "0.27553290339837255\n",
      "0.3570194969128265\n",
      "0.5177693693768612\n",
      "0.4547478445615485\n",
      "0.4257274372380053\n",
      "0.4200820529814155\n",
      "0.40073858166788284\n",
      "0.38313426682574864\n",
      "0.392669084070254\n",
      "0.40312049352664986\n",
      "0.41465535428130174\n",
      "0.42750074787662334\n",
      "0.4419801327239123\n",
      "0.45858651530667216\n",
      "0.4781497823071071\n",
      "0.5023082827467834\n",
      "0.5354183864365555\n",
      "0.591477794880047\n",
      "0.5972268610078079\n",
      "0.5952964772450426\n",
      "0.5932503575911974\n",
      "0.59108835304671\n",
      "0.5888107077216372\n",
      "0.5864180660206432\n",
      "0.5839114760229106\n",
      "0.5812923886959765\n",
      "0.5785626525725485\n",
      "0.575724503619291\n",
      "0.5727805501535965\n",
      "0.5697337528138329\n",
      "0.5665873997539594\n",
      "0.5633450774057103\n",
      "0.5600106373201693\n",
      "0.556588159755038\n",
      "0.553081914803297\n",
      "0.5494963219544324\n",
      "0.5458359090343636\n",
      "0.5421052714809131\n",
      "0.5383090328782935\n",
      "0.5344518075994357\n",
      "0.5305381662956439\n",
      "0.5265726048370734\n",
      "0.5225595171547635\n",
      "0.5185031722752833\n",
      "0.514407695681989\n",
      "0.5102770549906546\n",
      "0.5061150497980023\n",
      "0.5019253054540428\n",
      "0.49771127042518815\n",
      "0.4934762168555328\n",
      "0.48922324389712946\n",
      "0.4849552833646469\n",
      "0.48067510727210666\n",
      "0.4763853368263603\n",
      "0.47208845247998243\n",
      "0.4677868046821218\n",
      "0.46348262500654075\n",
      "0.4591780373789799\n",
      "0.4548750691694044\n",
      "0.4505756619565762\n",
      "0.446281681811767\n",
      "0.441994928984714\n",
      "0.43771714690732255\n",
      "0.4334500304588558\n",
      "0.42919523346102706\n",
      "0.424954375391496\n",
      "0.42072904732125416\n",
      "0.4165208170943084\n",
      "0.41233123377823316\n",
      "0.4081618314210182\n",
      "0.4040141321542384\n",
      "0.3998896486845661\n",
      "0.39578988621593586\n",
      "0.39171634384308035\n",
      "0.387670515454254\n",
      "0.3836538901770149\n",
      "0.37966795239620554\n",
      "0.3757141813681386\n",
      "0.37179405044947494\n",
      "0.367909025954273\n",
      "0.36406056564791833\n",
      "0.3602501168826098\n",
      "0.356479114376206\n",
      "0.3527489776345296\n",
      "0.34906110801707174\n",
      "0.34541688544749205\n",
      "0.34181766477348124\n",
      "0.3382647717856359\n",
      "0.33475949891150114\n",
      "0.3313031006091617\n",
      "0.3278967884943341\n",
      "0.3245417262451575\n",
      "0.3212390243395876\n",
      "0.31798973469133135\n",
      "0.3147948452599778\n",
      "0.3116552747200526\n",
      "0.3085718672804914\n",
      "0.30554538775067674\n",
      "0.30257651695070614\n",
      "0.2996658475622576\n",
      "0.29681388051139773\n",
      "0.29402102196653745\n",
      "0.2912875810233942\n",
      "0.2886137681348562\n",
      "0.28599969432721933\n",
      "0.2834453712264521\n",
      "0.2809507118997354\n",
      "0.27851553249869193\n",
      "0.27613955467296547\n",
      "0.2738224087065284\n",
      "0.2715636373146823\n",
      "0.26936270002800333\n",
      "0.26721897808055983\n",
      "0.2651317797137732\n",
      "0.2631003458042008\n",
      "0.26112385572338975\n",
      "0.25920143334018453\n",
      "0.2573321530806149\n",
      "0.25551504596650243\n",
      "0.2537491055617991\n",
      "0.2520332937642606\n",
      "0.25036654638902894\n",
      "0.24874777850018365\n"
     ]
    }
   ],
   "source": [
    "costs,theta_final=gradientDescent(X,y,theta,iters,alpha)"
   ]
  },
  {
   "cell_type": "code",
   "execution_count": 59,
   "metadata": {},
   "outputs": [
    {
     "data": {
      "text/plain": [
       "array([[-23.77366655],\n",
       "       [  0.20685936],\n",
       "       [  0.19996902]])"
      ]
     },
     "execution_count": 59,
     "metadata": {},
     "output_type": "execute_result"
    }
   ],
   "source": [
    "theta_final"
   ]
  },
  {
   "cell_type": "code",
   "execution_count": 60,
   "metadata": {},
   "outputs": [],
   "source": [
    "def predict(X,theta):\n",
    "    prob=sigmoid(X@theta)\n",
    "\n",
    "    return [1 if x >=0.5 else 0 for x in prob]"
   ]
  },
  {
   "cell_type": "code",
   "execution_count": 61,
   "metadata": {},
   "outputs": [
    {
     "name": "stdout",
     "output_type": "stream",
     "text": [
      "0.91\n"
     ]
    }
   ],
   "source": [
    "y_=np.array(predict(X,theta_final))\n",
    "y_pre=y_.reshape(len(y_),1)\n",
    "\n",
    "acc=np.mean(y_pre==y)\n",
    "\n",
    "print(acc)"
   ]
  },
  {
   "cell_type": "code",
   "execution_count": 62,
   "metadata": {},
   "outputs": [],
   "source": [
    "coef1=-theta_final[0,0]/theta_final[2,0]\n",
    "coef2=-theta_final[1,0]/theta_final[2,0]"
   ]
  },
  {
   "cell_type": "code",
   "execution_count": 64,
   "metadata": {},
   "outputs": [
    {
     "data": {
      "image/png": "[encoded data removed]",
      "text/plain": [
       "<Figure size 640x480 with 1 Axes>"
      ]
     },
     "metadata": {},
     "output_type": "display_data"
    }
   ],
   "source": [
    "x=np.linspace(20,100,100)\n",
    "f=coef1+coef2*x\n",
    "\n",
    "fig,ax=plt.subplots()\n",
    "\n",
    "ax.scatter(data[data['Accepted']==0]['Exam 1'],data[data['Accepted']==0]['Exam 2'],c='r',marker='x',label='y=0')\n",
    "ax.scatter(data[data['Accepted']==1]['Exam 1'],data[data['Accepted']==1]['Exam 2'],c='b',marker='o',label='y=1')\n",
    "ax.legend()\n",
    "ax.set(xlabel='exam1',ylabel='exam2')\n",
    "ax.plot(x,f,c='g')\n",
    "plt.show()"
   ]
  },
  {
   "cell_type": "code",
   "execution_count": null,
   "metadata": {},
   "outputs": [],
   "source": []
  }
 ],
 "metadata": {
  "kernelspec": {
   "display_name": "base",
   "language": "python",
   "name": "python3"
  },
  "language_info": {
   "codemirror_mode": {
    "name": "ipython",
    "version": 3
   },
   "file_extension": ".py",
   "mimetype": "text/x-python",
   "name": "python",
   "nbconvert_exporter": "python",
   "pygments_lexer": "ipython3",
   "version": "3.9.13"
  },
  "orig_nbformat": 4,
  "vscode": {
   "interpreter": {
    "hash": "429c4da532d5a49305ad374da5bd9411413fc9c5f93bdb5e51c34bc796003ebd"
   }
  }
 },
 "nbformat": 4,
 "nbformat_minor": 2
}
